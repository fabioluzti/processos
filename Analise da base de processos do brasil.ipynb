{
 "cells": [
  {
   "cell_type": "markdown",
   "metadata": {},
   "source": [
    "<h2><b>Análise Exploratória da Base de Processos Jurídicos do Brasil</b></h2><br>\n",
    "    A jurimetria é um campo do conhecimento que surgiu ao longo da trajetória jurídica e do exercício da advocacia no país. É multidisciplinar, pois engloba conhecimentos da área de exatas e das ciências jurídicas.\n",
    "    Basicamente na jurimetria aplicam-se cálculos estatísticos em conjuntos de dados obtidos através do exercício jurídico, em um determinado contexto, para obter informações precisas e/ou padronizadas que serão utilizadas pelos gestores do direito para a tomada de decisões.\n",
    "\n",
    "<b>Objetivo</b><br>\n",
    "Os dados de processos do Brasil estão espalhados em diversas fontes pela internet, a base utilizada é um exemplo das informações geradas pelo campo do direito. O objetivo desse projeto é analisar os dados obtidos demonstrando algumas técnicas de análise exploratória utilizando a linguagem python.\n",
    "\n",
    "<b>Fonte</b><br>\n",
    "Os dados utilizados neste projeto são datados até o ano de 2018 e foram obtidos no perfil do professor Roberto Vasconcelos Novaes no site Github. Link: https://github.com/rvnovaes/jurimetria"
   ]
  },
  {
   "cell_type": "code",
   "execution_count": 29,
   "metadata": {},
   "outputs": [],
   "source": [
    "#O primeiro passo é a importação dos pacotes necessários para utilização das funções de manipulação de dados\n",
    "#Utilizarei aqui as bibliotecas pandas, matplotlib, pandas profiling e seborn\n",
    "import pandas as pd\n",
    "import matplotlib.pyplot as plt\n",
    "import seaborn as sbn"
   ]
  },
  {
   "cell_type": "code",
   "execution_count": 30,
   "metadata": {},
   "outputs": [],
   "source": [
    "\"\"\"Inicializando o formato de visualização do matplotlib para inline, desta forma os gráficos são \n",
    "   apresentados em linha sem as opções de manipulação pois quero apenas a demonstração dos dados.\n",
    "   Além disso, foram usadas as opções de display do pandas para que ao apresentar os dados não \n",
    "   sejam suprimidas colunas ou linhas, assim temos uma visualização completa dos dados.\"\"\"\n",
    "\n",
    "%matplotlib inline\n",
    "pd.set_option('display.max_rows',None)\n",
    "pd.set_option('display.max_columns',None)"
   ]
  },
  {
   "cell_type": "code",
   "execution_count": 31,
   "metadata": {},
   "outputs": [],
   "source": [
    "#Importação da base de dados\n",
    "df = pd.read_csv('https://raw.githubusercontent.com/rvnovaes/jurimetria/master/datasets/processos/dados_processos.csv',sep=',',header=0)"
   ]
  },
  {
   "cell_type": "markdown",
   "metadata": {},
   "source": [
    "<h3><b>Conhecendo os dados</b><br></h3>\n",
    "Na análise de dados a etapa inicial baseia-se em conhecer como os dados estão estruturados e em qual contexto se aplicam. Através desse conhecimento podem ser geradas hipóteses de investigação que serão testadas ao longo do processo.\n",
    "\n",
    "<b>Dicionário das variáveis</b>\n",
    "<ul>\n",
    "    <li>numero: É o número atribuido ao processo durante a tramitação.</li>\n",
    "    <li>orgao: É o orgão responsável pela tramitação do processo.</li>\n",
    "    <li>tipo: É o tipo de numeração do processo(ex: Pje = Processo Judicial Eletrônico).</li>\n",
    "    <li>comarca_forum: É a comarca responsável pelo processo.</li>\n",
    "    <li>vara: vara responsável pelo processo.</li>\n",
    "    <li>assunto: É o assunto abordado.</li>\n",
    "    <li>natureza: É a natureza do processo.</li>\n",
    "    <li>tipo_acao: É o tipo da ação impetrada.</li>\n",
    "    <li>status: É o estado atual do processo(ex: arquivado).</li>\n",
    "    <li>encerramento: É a data de encerramento do processo.</li>\n",
    "    <li>audiencia: É a data da audiência marcada.</li>\n",
    "    <li>audiencia_/hora: É o horário da audiência marcada.</li>\n",
    "    <li>distribuição: É a data de distribução do processo.</li>\n",
    "    <li>valor: É valor mensurado no processo, quando existe.</li>\n",
    "    <li>numero_antigo: Como o número do processo pode ser mudado durante a tramitação precisa-se de uma referência ao número anterior.</li>\n",
    "    <li>numero_unico: É a numeração única do processo durante a tramitação.</li>\n",
    "    <li>autor: É a pessoa que \"acusa\" no processo.</li>\n",
    "    <li>autor_adv: É o conjunto de advogados do acusante.</li>\n",
    "    <li>reu: É a pessoa \"acusada\" no processo.</li>\n",
    "    <li>reu_adv: É o conjunto de advogados do acusado.</li>\n",
    "    <li>digital_fisico: É a indicação se o processo está em formato digitalizado ou físico.</li>\n",
    "    <li>instancia: É a instância na qual o processo está tramitando</li>\n",
    "    <li>duração: É o número de dias de duração do processo.</li>\n",
    "</ul>"
   ]
  },
  {
   "cell_type": "code",
   "execution_count": 32,
   "metadata": {},
   "outputs": [
    {
     "data": {
      "text/html": [
       "<div>\n",
       "<style scoped>\n",
       "    .dataframe tbody tr th:only-of-type {\n",
       "        vertical-align: middle;\n",
       "    }\n",
       "\n",
       "    .dataframe tbody tr th {\n",
       "        vertical-align: top;\n",
       "    }\n",
       "\n",
       "    .dataframe thead th {\n",
       "        text-align: right;\n",
       "    }\n",
       "</style>\n",
       "<table border=\"1\" class=\"dataframe\">\n",
       "  <thead>\n",
       "    <tr style=\"text-align: right;\">\n",
       "      <th></th>\n",
       "      <th>numero</th>\n",
       "      <th>orgao</th>\n",
       "      <th>tipo</th>\n",
       "      <th>comarca_forum</th>\n",
       "      <th>vara</th>\n",
       "      <th>assunto</th>\n",
       "      <th>natureza</th>\n",
       "      <th>tipo_acao</th>\n",
       "      <th>status</th>\n",
       "      <th>encerramento</th>\n",
       "      <th>audiencia</th>\n",
       "      <th>audiencia_/hora</th>\n",
       "      <th>distribuicao</th>\n",
       "      <th>valor</th>\n",
       "      <th>numero_antigo</th>\n",
       "      <th>numero_unico</th>\n",
       "      <th>autor</th>\n",
       "      <th>autor_adv</th>\n",
       "      <th>reu</th>\n",
       "      <th>reu_adv</th>\n",
       "      <th>digital_fisico</th>\n",
       "      <th>instancia</th>\n",
       "      <th>duracao</th>\n",
       "    </tr>\n",
       "  </thead>\n",
       "  <tbody>\n",
       "    <tr>\n",
       "      <th>0</th>\n",
       "      <td>0010578-58.2017.5.03.0150</td>\n",
       "      <td>TRT 03 - Tribunal Regional do Trabalho da 3a R...</td>\n",
       "      <td>PJE</td>\n",
       "      <td>Santa Rita do Sapucaí</td>\n",
       "      <td>Vara do Trabalho de Santa Rita do Sapucaí</td>\n",
       "      <td>Anotação na CTPS / Reconhecimento de Relação d...</td>\n",
       "      <td>RTOrd</td>\n",
       "      <td>NaN</td>\n",
       "      <td>arquivado</td>\n",
       "      <td>24/07/2017</td>\n",
       "      <td>24/07/2017</td>\n",
       "      <td>13:45</td>\n",
       "      <td>06/07/2017</td>\n",
       "      <td>NaN</td>\n",
       "      <td>0010578-58.2017.5.03.0150</td>\n",
       "      <td>0010578-58.2017.5.03.0150</td>\n",
       "      <td>RAIANE VIEIRA SANTOS MOREIRA</td>\n",
       "      <td>JOSE BORGES PEREIRA COSTA,COSMES MARCELO DE SOUZA</td>\n",
       "      <td>JULIANA DA FONSECA ALVES - ME,JULIANA DA FONSE...</td>\n",
       "      <td>JOSÉ FREDERICO CIMINO MANSSUR</td>\n",
       "      <td>digital</td>\n",
       "      <td>1</td>\n",
       "      <td>18</td>\n",
       "    </tr>\n",
       "    <tr>\n",
       "      <th>1</th>\n",
       "      <td>0010580-28.2017.5.03.0150</td>\n",
       "      <td>TRT 03 - Tribunal Regional do Trabalho da 3a R...</td>\n",
       "      <td>PJE</td>\n",
       "      <td>Santa Rita do Sapucaí</td>\n",
       "      <td>Vara do Trabalho de Santa Rita do Sapucaí</td>\n",
       "      <td>Anotação na CTPS / Reconhecimento de Relação d...</td>\n",
       "      <td>RTOrd</td>\n",
       "      <td>NaN</td>\n",
       "      <td>arquivado</td>\n",
       "      <td>24/07/2017</td>\n",
       "      <td>25/07/2017</td>\n",
       "      <td>13:10</td>\n",
       "      <td>06/07/2017</td>\n",
       "      <td>NaN</td>\n",
       "      <td>0010580-28.2017.5.03.0150</td>\n",
       "      <td>0010580-28.2017.5.03.0150</td>\n",
       "      <td>TAINA MARINHO DE SOUZA</td>\n",
       "      <td>COSMES MARCELO DE SOUZA,JOSE BORGES PEREIRA COSTA</td>\n",
       "      <td>JULIANA DA FONSECA ALVES - ME,JULIANA DA FONSE...</td>\n",
       "      <td>JOSÉ FREDERICO CIMINO MANSSUR</td>\n",
       "      <td>digital</td>\n",
       "      <td>1</td>\n",
       "      <td>18</td>\n",
       "    </tr>\n",
       "    <tr>\n",
       "      <th>2</th>\n",
       "      <td>0133181-85.2017.8.19.0038</td>\n",
       "      <td>TJRJ - Tribunal de Justiça do Estado do Rio de...</td>\n",
       "      <td>Numeração única</td>\n",
       "      <td>Nova Iguaçu</td>\n",
       "      <td>1º Juizado Especial Cível</td>\n",
       "      <td>Dano Moral Outros - Cdc</td>\n",
       "      <td>NaN</td>\n",
       "      <td>Procedimento do Juizado Especial Cível/Fazendário</td>\n",
       "      <td>Procedente</td>\n",
       "      <td>26/03/2018</td>\n",
       "      <td>24/11/2017</td>\n",
       "      <td>14:50</td>\n",
       "      <td>07/03/2018</td>\n",
       "      <td>NaN</td>\n",
       "      <td>0133181-85.2017.8.19.0038</td>\n",
       "      <td>0133181-85.2017.8.19.0038</td>\n",
       "      <td>PETERSON DE JESUS OLIVEIRA NEDY</td>\n",
       "      <td>DANIELLE RODRIGUES DIOGO COSTA - RJ145044</td>\n",
       "      <td>99 TAXIS DESENVOLVIMENTO DE SOFTWARES LTDA</td>\n",
       "      <td>EDUARDO GAZALE FÉO - SP168826</td>\n",
       "      <td>digital</td>\n",
       "      <td>1</td>\n",
       "      <td>19</td>\n",
       "    </tr>\n",
       "    <tr>\n",
       "      <th>3</th>\n",
       "      <td>0133181-85.2017.8.19.0038</td>\n",
       "      <td>TJRJ - Tribunal de Justiça do Estado do Rio de...</td>\n",
       "      <td>Numeração única</td>\n",
       "      <td>Nova Iguaçu</td>\n",
       "      <td>1º Juizado Especial Cível</td>\n",
       "      <td>Dano Moral Outros - Cdc</td>\n",
       "      <td>0</td>\n",
       "      <td>Procedimento do Juizado Especial Cível/Fazendário</td>\n",
       "      <td>Procedente</td>\n",
       "      <td>26/03/2018</td>\n",
       "      <td>24/11/2017</td>\n",
       "      <td>14:50</td>\n",
       "      <td>07/03/2018</td>\n",
       "      <td>0</td>\n",
       "      <td>0133181-85.2017.8.19.0038</td>\n",
       "      <td>0133181-85.2017.8.19.0038</td>\n",
       "      <td>PETERSON DE JESUS OLIVEIRA NEDY</td>\n",
       "      <td>DANIELLE RODRIGUES DIOGO COSTA - RJ145044</td>\n",
       "      <td>99 TAXIS DESENVOLVIMENTO DE SOFTWARES LTDA</td>\n",
       "      <td>EDUARDO GAZALE FÉO - SP168826</td>\n",
       "      <td>digital</td>\n",
       "      <td>1</td>\n",
       "      <td>19</td>\n",
       "    </tr>\n",
       "    <tr>\n",
       "      <th>4</th>\n",
       "      <td>0000500-67.2016.8.26.0079</td>\n",
       "      <td>TJSP - Tribunal de Justiça do Estado de São Paulo</td>\n",
       "      <td>Consulta do 1º Grau / e-Saj - Número único</td>\n",
       "      <td>Foro de Botucatu</td>\n",
       "      <td>CEJUSC (Pré</td>\n",
       "      <td>Obrigações</td>\n",
       "      <td>Cível</td>\n",
       "      <td>Reclamação Pré-processual</td>\n",
       "      <td>arquivado</td>\n",
       "      <td>12/02/2016</td>\n",
       "      <td>11/02/2016</td>\n",
       "      <td>09:20</td>\n",
       "      <td>19/01/2016</td>\n",
       "      <td>NaN</td>\n",
       "      <td>0000500-67.2016.8.26.0079</td>\n",
       "      <td>0000500-67.2016.8.26.0079</td>\n",
       "      <td>Mailson E. Del Omo de Camargo</td>\n",
       "      <td>NaN</td>\n",
       "      <td>Urbaplan</td>\n",
       "      <td>NaN</td>\n",
       "      <td>digital</td>\n",
       "      <td>1</td>\n",
       "      <td>24</td>\n",
       "    </tr>\n",
       "    <tr>\n",
       "      <th>5</th>\n",
       "      <td>0000500-67.2016.8.26.0079</td>\n",
       "      <td>TJSP - Tribunal de Justiça do Estado de São Paulo</td>\n",
       "      <td>Consulta do 1º Grau / e-Saj - Número único</td>\n",
       "      <td>Foro de Botucatu</td>\n",
       "      <td>CEJUSC (Pré</td>\n",
       "      <td>Obrigações</td>\n",
       "      <td>Cível</td>\n",
       "      <td>Reclamação Pré-processual</td>\n",
       "      <td>arquivado</td>\n",
       "      <td>12/02/2016</td>\n",
       "      <td>11/02/2016</td>\n",
       "      <td>09:20</td>\n",
       "      <td>19/01/2016</td>\n",
       "      <td>0</td>\n",
       "      <td>0000500-67.2016.8.26.0079</td>\n",
       "      <td>0000500-67.2016.8.26.0079</td>\n",
       "      <td>Mailson E. Del Omo de Camargo</td>\n",
       "      <td>NaN</td>\n",
       "      <td>Urbaplan</td>\n",
       "      <td>NaN</td>\n",
       "      <td>digital</td>\n",
       "      <td>1</td>\n",
       "      <td>24</td>\n",
       "    </tr>\n",
       "  </tbody>\n",
       "</table>\n",
       "</div>"
      ],
      "text/plain": [
       "                       numero  \\\n",
       "0   0010578-58.2017.5.03.0150   \n",
       "1   0010580-28.2017.5.03.0150   \n",
       "2   0133181-85.2017.8.19.0038   \n",
       "3   0133181-85.2017.8.19.0038   \n",
       "4  0000500-67.2016.8.26.0079    \n",
       "5  0000500-67.2016.8.26.0079    \n",
       "\n",
       "                                               orgao  \\\n",
       "0  TRT 03 - Tribunal Regional do Trabalho da 3a R...   \n",
       "1  TRT 03 - Tribunal Regional do Trabalho da 3a R...   \n",
       "2  TJRJ - Tribunal de Justiça do Estado do Rio de...   \n",
       "3  TJRJ - Tribunal de Justiça do Estado do Rio de...   \n",
       "4  TJSP - Tribunal de Justiça do Estado de São Paulo   \n",
       "5  TJSP - Tribunal de Justiça do Estado de São Paulo   \n",
       "\n",
       "                                         tipo          comarca_forum  \\\n",
       "0                                         PJE  Santa Rita do Sapucaí   \n",
       "1                                         PJE  Santa Rita do Sapucaí   \n",
       "2                             Numeração única            Nova Iguaçu   \n",
       "3                             Numeração única            Nova Iguaçu   \n",
       "4  Consulta do 1º Grau / e-Saj - Número único       Foro de Botucatu   \n",
       "5  Consulta do 1º Grau / e-Saj - Número único       Foro de Botucatu   \n",
       "\n",
       "                                        vara  \\\n",
       "0  Vara do Trabalho de Santa Rita do Sapucaí   \n",
       "1  Vara do Trabalho de Santa Rita do Sapucaí   \n",
       "2                  1º Juizado Especial Cível   \n",
       "3                  1º Juizado Especial Cível   \n",
       "4                                CEJUSC (Pré   \n",
       "5                                CEJUSC (Pré   \n",
       "\n",
       "                                             assunto natureza  \\\n",
       "0  Anotação na CTPS / Reconhecimento de Relação d...    RTOrd   \n",
       "1  Anotação na CTPS / Reconhecimento de Relação d...    RTOrd   \n",
       "2                            Dano Moral Outros - Cdc      NaN   \n",
       "3                            Dano Moral Outros - Cdc        0   \n",
       "4                                         Obrigações    Cível   \n",
       "5                                         Obrigações    Cível   \n",
       "\n",
       "                                           tipo_acao      status encerramento  \\\n",
       "0                                                NaN   arquivado   24/07/2017   \n",
       "1                                                NaN   arquivado   24/07/2017   \n",
       "2  Procedimento do Juizado Especial Cível/Fazendário  Procedente   26/03/2018   \n",
       "3  Procedimento do Juizado Especial Cível/Fazendário  Procedente   26/03/2018   \n",
       "4                          Reclamação Pré-processual   arquivado   12/02/2016   \n",
       "5                          Reclamação Pré-processual   arquivado   12/02/2016   \n",
       "\n",
       "    audiencia audiencia_/hora distribuicao valor               numero_antigo  \\\n",
       "0  24/07/2017           13:45   06/07/2017   NaN   0010578-58.2017.5.03.0150   \n",
       "1  25/07/2017           13:10   06/07/2017   NaN   0010580-28.2017.5.03.0150   \n",
       "2  24/11/2017           14:50   07/03/2018   NaN   0133181-85.2017.8.19.0038   \n",
       "3  24/11/2017           14:50   07/03/2018     0   0133181-85.2017.8.19.0038   \n",
       "4  11/02/2016           09:20   19/01/2016   NaN  0000500-67.2016.8.26.0079    \n",
       "5  11/02/2016           09:20   19/01/2016     0  0000500-67.2016.8.26.0079    \n",
       "\n",
       "                numero_unico                            autor  \\\n",
       "0  0010578-58.2017.5.03.0150     RAIANE VIEIRA SANTOS MOREIRA   \n",
       "1  0010580-28.2017.5.03.0150           TAINA MARINHO DE SOUZA   \n",
       "2  0133181-85.2017.8.19.0038  PETERSON DE JESUS OLIVEIRA NEDY   \n",
       "3  0133181-85.2017.8.19.0038  PETERSON DE JESUS OLIVEIRA NEDY   \n",
       "4  0000500-67.2016.8.26.0079    Mailson E. Del Omo de Camargo   \n",
       "5  0000500-67.2016.8.26.0079    Mailson E. Del Omo de Camargo   \n",
       "\n",
       "                                           autor_adv  \\\n",
       "0  JOSE BORGES PEREIRA COSTA,COSMES MARCELO DE SOUZA   \n",
       "1  COSMES MARCELO DE SOUZA,JOSE BORGES PEREIRA COSTA   \n",
       "2          DANIELLE RODRIGUES DIOGO COSTA - RJ145044   \n",
       "3          DANIELLE RODRIGUES DIOGO COSTA - RJ145044   \n",
       "4                                                NaN   \n",
       "5                                                NaN   \n",
       "\n",
       "                                                 reu  \\\n",
       "0  JULIANA DA FONSECA ALVES - ME,JULIANA DA FONSE...   \n",
       "1  JULIANA DA FONSECA ALVES - ME,JULIANA DA FONSE...   \n",
       "2         99 TAXIS DESENVOLVIMENTO DE SOFTWARES LTDA   \n",
       "3         99 TAXIS DESENVOLVIMENTO DE SOFTWARES LTDA   \n",
       "4                                           Urbaplan   \n",
       "5                                           Urbaplan   \n",
       "\n",
       "                         reu_adv digital_fisico  instancia  duracao  \n",
       "0  JOSÉ FREDERICO CIMINO MANSSUR        digital          1       18  \n",
       "1  JOSÉ FREDERICO CIMINO MANSSUR        digital          1       18  \n",
       "2  EDUARDO GAZALE FÉO - SP168826        digital          1       19  \n",
       "3  EDUARDO GAZALE FÉO - SP168826        digital          1       19  \n",
       "4                            NaN        digital          1       24  \n",
       "5                            NaN        digital          1       24  "
      ]
     },
     "execution_count": 32,
     "metadata": {},
     "output_type": "execute_result"
    }
   ],
   "source": [
    "#Visualizando os dados da base\n",
    "df.head(6)"
   ]
  },
  {
   "cell_type": "code",
   "execution_count": 33,
   "metadata": {},
   "outputs": [
    {
     "name": "stdout",
     "output_type": "stream",
     "text": [
      "<class 'pandas.core.frame.DataFrame'>\n",
      "RangeIndex: 1355 entries, 0 to 1354\n",
      "Data columns (total 23 columns):\n",
      "numero             1338 non-null object\n",
      "orgao              1355 non-null object\n",
      "tipo               1354 non-null object\n",
      "comarca_forum      1355 non-null object\n",
      "vara               1355 non-null object\n",
      "assunto            1269 non-null object\n",
      "natureza           1105 non-null object\n",
      "tipo_acao          972 non-null object\n",
      "status             1355 non-null object\n",
      "encerramento       1355 non-null object\n",
      "audiencia          746 non-null object\n",
      "audiencia_/hora    746 non-null object\n",
      "distribuicao       1355 non-null object\n",
      "valor              828 non-null object\n",
      "numero_antigo      1338 non-null object\n",
      "numero_unico       1353 non-null object\n",
      "autor              1355 non-null object\n",
      "autor_adv          1221 non-null object\n",
      "reu                1346 non-null object\n",
      "reu_adv            1175 non-null object\n",
      "digital_fisico     1355 non-null object\n",
      "instancia          1355 non-null int64\n",
      "duracao            1355 non-null int64\n",
      "dtypes: int64(2), object(21)\n",
      "memory usage: 243.6+ KB\n"
     ]
    }
   ],
   "source": [
    "#obtendo informações estatísticas da base\n",
    "df.info()"
   ]
  },
  {
   "cell_type": "markdown",
   "metadata": {},
   "source": [
    "Pode-se verificar que a base de dados possui 1355 registros de processos e 23 variáveis(colunas) passíveis de análise, sendo que estas estão, na maior parte, atribuidas ao tipo object. Em uma base de dados pequena, a tipagem das variáveis não interfere muito no desempenho dos algorítmos, mas em grandes bases têm-se um ganho considerável de espaço na memória utilizada e na performance dos algorítmos para a manipulação dos dados.<br><br>\n",
    "Existem também varios registros com valores do tipo Nan, ou seja, registros com valores faltantes que devem sempre ser levados em consideração já que vários algorítmos de manipulação e visualização de dados não trabalham bem com esses valores. Além disso, dependendo da fonte dos dados os valores faltantes podem indicar problemas existentes na captação dos dados. "
   ]
  },
  {
   "cell_type": "code",
   "execution_count": 34,
   "metadata": {},
   "outputs": [
    {
     "data": {
      "text/plain": [
       "numero              17\n",
       "orgao                0\n",
       "tipo                 1\n",
       "comarca_forum        0\n",
       "vara                 0\n",
       "assunto             86\n",
       "natureza           250\n",
       "tipo_acao          383\n",
       "status               0\n",
       "encerramento         0\n",
       "audiencia          609\n",
       "audiencia_/hora    609\n",
       "distribuicao         0\n",
       "valor              527\n",
       "numero_antigo       17\n",
       "numero_unico         2\n",
       "autor                0\n",
       "autor_adv          134\n",
       "reu                  9\n",
       "reu_adv            180\n",
       "digital_fisico       0\n",
       "instancia            0\n",
       "duracao              0\n",
       "dtype: int64"
      ]
     },
     "execution_count": 34,
     "metadata": {},
     "output_type": "execute_result"
    }
   ],
   "source": [
    "#obtendo o número de valores nulos em cada coluna\n",
    "df.isnull().sum()"
   ]
  },
  {
   "cell_type": "code",
   "execution_count": 35,
   "metadata": {},
   "outputs": [
    {
     "data": {
      "text/plain": [
       "Index(['numero', 'orgao', 'tipo', 'comarca_forum', 'vara', 'assunto',\n",
       "       'natureza', 'tipo_acao', 'status', 'encerramento', 'audiencia',\n",
       "       'audiencia_/hora', 'distribuicao', 'valor', 'numero_antigo',\n",
       "       'numero_unico', 'autor', 'autor_adv', 'reu', 'reu_adv',\n",
       "       'digital_fisico', 'instancia', 'duracao'],\n",
       "      dtype='object')"
      ]
     },
     "execution_count": 35,
     "metadata": {},
     "output_type": "execute_result"
    }
   ],
   "source": [
    "#Obtendo o nome das variáveis(colunas)\n",
    "df.columns"
   ]
  },
  {
   "cell_type": "markdown",
   "metadata": {},
   "source": [
    "Podemos selecionar algumas variáveis para analisar e obter informações como: natureza, status, valor, duracao e digital_fisico"
   ]
  },
  {
   "cell_type": "code",
   "execution_count": 36,
   "metadata": {},
   "outputs": [
    {
     "data": {
      "text/plain": [
       "array(['RTOrd', nan, '0', 'Cível', 'ACum', 'RTSum',\n",
       "       'Procedimento do Juizado Especial Cível « Procedimento de Conhecimento « Processo de Conhecimento « PROCESSO CÍVEL E DO TRABALHO',\n",
       "       'CIVIL', 'PROCESSUAL CIVIL E DO TRABALHO', 'TRIBUTÁRIO', 'RTAlç',\n",
       "       'ExProvAS', 'RELAÇÃO DE CONSUMO', 'MS', 'CÍVEL',\n",
       "       'Cumprimento de sentença « Procedimento de Cumprimento de Sentença « Processo de Conhecimento « PROCESSO CÍVEL E DO TRABALHO',\n",
       "       'ConPag', 'AlvJud',\n",
       "       'Cumprimento de Sentença « Procedimento de Cumprimento de Sentença « Processo de Conhecimento « PROCESSO CÍVEL E DO TRABALHO',\n",
       "       'Ação Trabalhista', 'Trabalhista', 'EXEC. FISCAL-MUNICÍP'],\n",
       "      dtype=object)"
      ]
     },
     "execution_count": 36,
     "metadata": {},
     "output_type": "execute_result"
    }
   ],
   "source": [
    "#verificando valores únicos da variável status\n",
    "df.natureza.unique()"
   ]
  },
  {
   "cell_type": "code",
   "execution_count": 37,
   "metadata": {},
   "outputs": [
    {
     "data": {
      "text/plain": [
       "Cível                                                                                                                              699\n",
       "RTOrd                                                                                                                              213\n",
       "RTSum                                                                                                                               74\n",
       "0                                                                                                                                   27\n",
       "Procedimento do Juizado Especial Cível « Procedimento de Conhecimento « Processo de Conhecimento « PROCESSO CÍVEL E DO TRABALHO     26\n",
       "CIVIL                                                                                                                               21\n",
       "Ação Trabalhista                                                                                                                    14\n",
       "Cumprimento de Sentença « Procedimento de Cumprimento de Sentença « Processo de Conhecimento « PROCESSO CÍVEL E DO TRABALHO          6\n",
       "RELAÇÃO DE CONSUMO                                                                                                                   6\n",
       "ExProvAS                                                                                                                             3\n",
       "PROCESSUAL CIVIL E DO TRABALHO                                                                                                       3\n",
       "TRIBUTÁRIO                                                                                                                           2\n",
       "MS                                                                                                                                   2\n",
       "CÍVEL                                                                                                                                2\n",
       "Cumprimento de sentença « Procedimento de Cumprimento de Sentença « Processo de Conhecimento « PROCESSO CÍVEL E DO TRABALHO          1\n",
       "EXEC. FISCAL-MUNICÍP                                                                                                                 1\n",
       "ConPag                                                                                                                               1\n",
       "RTAlç                                                                                                                                1\n",
       "AlvJud                                                                                                                               1\n",
       "ACum                                                                                                                                 1\n",
       "Trabalhista                                                                                                                          1\n",
       "Name: natureza, dtype: int64"
      ]
     },
     "execution_count": 37,
     "metadata": {},
     "output_type": "execute_result"
    }
   ],
   "source": [
    "#verificando quantidade de registros atribuidos a cada natureza\n",
    "df['natureza'].value_counts()"
   ]
  },
  {
   "cell_type": "markdown",
   "metadata": {},
   "source": [
    "É necessário repetir o mesmo processo para as demais variáveis escolhidas, assim pode-se saber os valores únicos em cada uma."
   ]
  },
  {
   "cell_type": "code",
   "execution_count": 38,
   "metadata": {},
   "outputs": [
    {
     "data": {
      "text/plain": [
       "Procedente                 308\n",
       "arquivado                  278\n",
       "extinto                    228\n",
       "acordo                     226\n",
       "Parcialmente procedente    152\n",
       "Improcedente               151\n",
       "Desistencia                  9\n",
       "ARQUIVADO                    3\n",
       "Name: status, dtype: int64"
      ]
     },
     "execution_count": 38,
     "metadata": {},
     "output_type": "execute_result"
    }
   ],
   "source": [
    "#verificando quantidade de registros atribuidos a cada status\n",
    "df['status'].value_counts()"
   ]
  },
  {
   "cell_type": "markdown",
   "metadata": {},
   "source": [
    "Veja que já é possível a transformação dessa informação em um gráfico para melhor visualização, pois podemos verificar que a maior quantidade dos processos da base é de procedentes, ou seja, que houve ganho de causa por parte do autor do processo."
   ]
  },
  {
   "cell_type": "code",
   "execution_count": 39,
   "metadata": {},
   "outputs": [
    {
     "data": {
      "text/plain": [
       "array([nan, '0', '13332,00', '157437,49', '889,00', '8535,57', '86878,26',\n",
       "       '244247,41', '3464,95', '18078,78', '631,00', '126727,97',\n",
       "       '1682,32', '84634,71', '75406,08', '39120,00', '23710,00',\n",
       "       '1000,00', '22489,85', '5838,00', '10000,00', '17545,42',\n",
       "       '37739,72', '17980,00', '10917,73', '2307,29', '106220,00',\n",
       "       '14615,00', '10536,20', '18740,00', '12815,16', '37480,00',\n",
       "       '35795,44', '245425,92', '5808,70'], dtype=object)"
      ]
     },
     "execution_count": 39,
     "metadata": {},
     "output_type": "execute_result"
    }
   ],
   "source": [
    "#verificando valores unicos e formato dos dados\n",
    "df['valor'][0:200].unique()"
   ]
  },
  {
   "cell_type": "code",
   "execution_count": 40,
   "metadata": {},
   "outputs": [
    {
     "data": {
      "text/plain": [
       "array([18, 19, 24, 28, 31, 34, 35, 39, 41, 42, 43, 46, 47, 49, 50, 51, 53,\n",
       "       55, 58, 59, 60, 61, 62, 63, 65, 66, 67, 68, 69, 70, 72, 74, 75, 76,\n",
       "       78, 80, 82, 83, 84, 85, 86, 88, 89, 93, 95, 96, 98], dtype=int64)"
      ]
     },
     "execution_count": 40,
     "metadata": {},
     "output_type": "execute_result"
    }
   ],
   "source": [
    "#verificando valores unicos e formato dos dados\n",
    "df['duracao'][0:100].unique()"
   ]
  },
  {
   "cell_type": "code",
   "execution_count": 41,
   "metadata": {},
   "outputs": [
    {
     "data": {
      "text/plain": [
       "digital    993\n",
       "fisico     362\n",
       "Name: digital_fisico, dtype: int64"
      ]
     },
     "execution_count": 41,
     "metadata": {},
     "output_type": "execute_result"
    }
   ],
   "source": [
    "#verificando quantidade de registros atribuidos a cada tipo de processo\n",
    "df['digital_fisico'].value_counts()"
   ]
  },
  {
   "cell_type": "markdown",
   "metadata": {},
   "source": [
    "<h3><b>Limpeza e Transformação dos Dados</b><br></h3>\n",
    "Na etapa de limpeza e transformação, os dados da base devem ser trabalhados para que sejam os mais precisos possível. Existem diversas técnicas para melhorias dos dados(tratamento de anomalias, discretização, normalização e etc), para este projeto foram utilizadas funções para limpeza, tipagem de dados, transformação e ordenação.<br><br><br>\n",
    "O primeiro passo é ajustar os nomes das variáveis da base, pois ao verificar os nomes das colunas percebe-se que há uma barra no campo hora da audiência. Caracteres especiais(barras, pontos de exclamação e interrogação, acentos e etc) não costumam ser interpretados de forma correta pelos algorítmos de manipulação de dados, por isso devem ser evitados."
   ]
  },
  {
   "cell_type": "code",
   "execution_count": 42,
   "metadata": {},
   "outputs": [
    {
     "data": {
      "text/plain": [
       "Index(['numero', 'orgao', 'tipo', 'comarca_forum', 'vara', 'assunto',\n",
       "       'natureza', 'tipo_acao', 'status', 'encerramento', 'audiencia',\n",
       "       'audiencia_hora', 'distribuicao', 'valor', 'numero_antigo',\n",
       "       'numero_unico', 'autor', 'autor_adv', 'reu', 'reu_adv',\n",
       "       'digital_fisico', 'instancia', 'duracao'],\n",
       "      dtype='object')"
      ]
     },
     "execution_count": 42,
     "metadata": {},
     "output_type": "execute_result"
    }
   ],
   "source": [
    "#verificando e limpando o caracter \"/\" nas colunas \n",
    "df.columns = df.columns.str.replace('/', '')\n",
    "df.columns"
   ]
  },
  {
   "cell_type": "markdown",
   "metadata": {},
   "source": [
    "O campo natureza do processo tem algumas categorias com nomes bem grandes que podem ser reduzidos para facilitar a visualização."
   ]
  },
  {
   "cell_type": "code",
   "execution_count": 43,
   "metadata": {},
   "outputs": [
    {
     "data": {
      "text/plain": [
       "Cível                                      701\n",
       "Nan                                        250\n",
       "Rtord                                      213\n",
       "Rtsum                                       74\n",
       "0                                           27\n",
       "Procedimento do juizado especial cível      26\n",
       "Civil                                       21\n",
       "Ação trabalhista                            14\n",
       "Cumprimento de sentença                      7\n",
       "Relação de consumo                           6\n",
       "Exprovas                                     3\n",
       "Processual civil e do trabalho               3\n",
       "Ms                                           2\n",
       "Tributário                                   2\n",
       "Exec. fiscal-municíp                         1\n",
       "Trabalhista                                  1\n",
       "Conpag                                       1\n",
       "Rtalç                                        1\n",
       "Alvjud                                       1\n",
       "Acum                                         1\n",
       "Name: natureza, dtype: int64"
      ]
     },
     "execution_count": 43,
     "metadata": {},
     "output_type": "execute_result"
    }
   ],
   "source": [
    "#dividindo os nomes das categorias pelo simbolo \"«\" e pegando apenas o primeiro nome \n",
    "#alterando os nomes para a primeira letra em caixa alta e mudando a tipagem para dados categoricos\n",
    "df.natureza = df.natureza.str.split('«').str[0]\n",
    "df.natureza = df.natureza.apply(lambda x: str(x).capitalize())\n",
    "df.natureza = df.natureza.astype('category')\n",
    "df['natureza'].value_counts()"
   ]
  },
  {
   "cell_type": "markdown",
   "metadata": {},
   "source": [
    "Verificando os dados apresentados pode-se perceber que existem muitos registros aplicados as categorias que tem Nan e 0, para efeitos de visualização essas categorias serão trocadas para o label \"Sem natureza\". Os nomes Civil e Cível representam a mesma natureza e serão considerados uma só."
   ]
  },
  {
   "cell_type": "code",
   "execution_count": 44,
   "metadata": {},
   "outputs": [
    {
     "data": {
      "text/plain": [
       "Cível                                      722\n",
       "Sem natureza                               277\n",
       "Rtord                                      213\n",
       "Rtsum                                       74\n",
       "Procedimento do juizado especial cível      26\n",
       "Ação trabalhista                            14\n",
       "Cumprimento de sentença                      7\n",
       "Relação de consumo                           6\n",
       "Exprovas                                     3\n",
       "Processual civil e do trabalho               3\n",
       "Ms                                           2\n",
       "Tributário                                   2\n",
       "Rtalç                                        1\n",
       "Acum                                         1\n",
       "Conpag                                       1\n",
       "Alvjud                                       1\n",
       "Exec. fiscal-municíp                         1\n",
       "Trabalhista                                  1\n",
       "Name: natureza, dtype: int64"
      ]
     },
     "execution_count": 44,
     "metadata": {},
     "output_type": "execute_result"
    }
   ],
   "source": [
    "df.natureza = df.natureza.apply(lambda x: 'Sem natureza' if 'Nan' in str(x) or '0' in str(x) else str(x))\n",
    "df.natureza = df.natureza.apply(lambda x: 'Cível' if 'Civil' in str(x) else str(x))\n",
    "df['natureza'].value_counts()"
   ]
  },
  {
   "cell_type": "markdown",
   "metadata": {},
   "source": [
    "O campo status tem alguns valores com a primeira letra maiúscula e outros que estão com todas as letras minúsculas, por questão de estética os valores seram alterados para que todos fiquem com a primeira letra em caixa alta."
   ]
  },
  {
   "cell_type": "code",
   "execution_count": 45,
   "metadata": {},
   "outputs": [
    {
     "data": {
      "text/plain": [
       "Procedente                 308\n",
       "Arquivado                  281\n",
       "Extinto                    228\n",
       "Acordo                     226\n",
       "Parcialmente procedente    152\n",
       "Improcedente               151\n",
       "Desistencia                  9\n",
       "Name: status, dtype: int64"
      ]
     },
     "execution_count": 45,
     "metadata": {},
     "output_type": "execute_result"
    }
   ],
   "source": [
    "df.status = df.status.apply(lambda x: str(x).capitalize())\n",
    "df.status = df.status.astype('category')\n",
    "df['status'].value_counts()"
   ]
  },
  {
   "cell_type": "markdown",
   "metadata": {},
   "source": [
    "O campo valor está no formato de texto e apresenta caracteres especiais, os valores serão convertidos para o formato numérico."
   ]
  },
  {
   "cell_type": "code",
   "execution_count": 46,
   "metadata": {},
   "outputs": [],
   "source": [
    "#removendo caracteres especiais e alterando os dados para o formato numérico\n",
    "df.valor = df.valor.apply(lambda x: str(x).replace('R$', ''))\n",
    "df.valor = df.valor.apply(lambda x: str(x).replace('.', ''))\n",
    "df.valor = df.valor.apply(lambda x: str(x).replace(',', '.'))\n",
    "df.valor = df.valor.astype(float)"
   ]
  },
  {
   "cell_type": "code",
   "execution_count": 47,
   "metadata": {},
   "outputs": [],
   "source": [
    "#transformando os valores faltantes em zero\n",
    "df['valor'].fillna(0,inplace=True)"
   ]
  },
  {
   "cell_type": "code",
   "execution_count": 48,
   "metadata": {},
   "outputs": [
    {
     "data": {
      "text/plain": [
       "array([75675646.  , 34681011.3 , 24095000.  ,  6103227.  ,  4500000.  ,\n",
       "        3526550.42,  2247674.  ,  2135639.01,  1900993.15,  1558594.57,\n",
       "        1484887.58,  1156536.  ,  1005612.75,   891120.  ,   825823.99,\n",
       "         447645.95,   402550.  ,   395804.61,   379500.  ,   363155.08,\n",
       "         337750.  ,   335926.6 ,   333973.58,   315616.96,   294212.05,\n",
       "         289618.12,   283009.99,   260977.99,   245425.92,   244247.41,\n",
       "         237925.9 ,   229265.47,   221988.9 ,   214237.06,   212625.  ,\n",
       "         206530.  ,   202189.93,   201773.83,   199241.97,   193516.  ,\n",
       "         185000.  ,   184028.29,   181830.86,   176008.62,   171083.14,\n",
       "         170000.  ,   168588.4 ,   163128.6 ,   161835.01,   161060.17,\n",
       "         160000.  ,   157437.49,   157199.31,   153158.41,   148707.  ,\n",
       "         144221.71,   140518.14,   140100.  ,   139106.91,   139056.  ,\n",
       "         135245.73,   135000.  ,   134660.84,   130000.  ,   128153.7 ,\n",
       "         127298.73,   126727.97,   125831.3 ,   125142.88,   125000.  ,\n",
       "         124474.77,   122803.73,   121308.54,   120402.48,   120000.  ,\n",
       "         116576.24,   116250.  ])"
      ]
     },
     "execution_count": 48,
     "metadata": {},
     "output_type": "execute_result"
    }
   ],
   "source": [
    "#ordenando os dados pelo valor(ordem decrescente)\n",
    "df.sort_values('valor',ascending=False,inplace=True)\n",
    "df['valor'][0:100].unique()"
   ]
  },
  {
   "cell_type": "markdown",
   "metadata": {},
   "source": [
    "Os campos duração e digital_fisico terão apenas a tipagem alterada para uma melhor manipulação."
   ]
  },
  {
   "cell_type": "code",
   "execution_count": 49,
   "metadata": {},
   "outputs": [],
   "source": [
    "df.duracao = df.duracao.astype('int32')\n",
    "df.digital_fisico = df.digital_fisico.astype('category')"
   ]
  },
  {
   "cell_type": "markdown",
   "metadata": {},
   "source": [
    "<h3>Visualização dos Dados</h3><br>\n",
    "Após o tratamento e análise os dados podem ser organizados de forma visual em gráficos para uma melhor observação e interpretação das informações obtidas. Foram utilizadas as bibliotecas Matplotlib e Seaborn para apresentação dos gráficos abaixo. "
   ]
  },
  {
   "cell_type": "code",
   "execution_count": 50,
   "metadata": {},
   "outputs": [
    {
     "data": {
      "image/png": "[encoded data removed]",
      "text/plain": [
       "<Figure size 1224x360 with 2 Axes>"
      ]
     },
     "metadata": {},
     "output_type": "display_data"
    }
   ],
   "source": [
    "#alterando o estilo de exibição dos gráficos\n",
    "plt.style.use('ggplot')\n",
    "\n",
    "#gerando figuras para manipulação\n",
    "fig1, (ax1, ax2) = plt.subplots(nrows=1, ncols=2, figsize=(17, 5))\n",
    "\n",
    "#grafico de distribuicao da duração\n",
    "ax1.set_title('Ditribuição da coluna duração')\n",
    "ax1.set_ylabel('Número de dias corridos')\n",
    "ax1.boxplot(df['duracao'], flierprops=dict(markerfacecolor='g', marker='D'))\n",
    "\n",
    "#grafico de distribuição do valor\n",
    "ax2.set_title('Distribuição da coluna valor')\n",
    "ax2.set_ylabel('Em milhões de reais(R$)')\n",
    "ax2.set_ylim(0, max(df['valor'])*1.10)\n",
    "ax2.boxplot(df['valor'], flierprops=dict(markerfacecolor='g', marker='D'))\n",
    "ax2.get_yaxis().get_major_formatter().set_scientific(False)\n",
    "\n",
    "#plotando os graficos\n",
    "plt.show()"
   ]
  },
  {
   "cell_type": "markdown",
   "metadata": {},
   "source": [
    "<b>Verificando os gráficos acima pode-se perceber que a distribução dos valores das colunas duração e valor têm diversos outliers(valores discrepantes), ou seja, valores muito divergentes da média geral dos dados. Em uma base comum isso poderia indicar problemas nos dados, como uma coleta malsucedida por exemplo, mas no caso de processos jurídicos é comum ter um grande conjunto de dados que seguem a mesma regra de tempo de duração e alguns outros que levam bastante tempo em tramitação.</b><br>\n",
    "\n",
    "<b>Da mesma forma a coluna valor apresenta a média dos seus dados como zero, por isso não é apresentada uma box com a média e os quartis como no gráfico da duração. Mais uma vez, em uma base de processos jurídicos é comum encontrar processos com valores exorbitantes.</b><br>\n",
    "\n",
    "<b>Por fim, gráficos do tipo boxplot são bons para verificar a distribuição dos dados de uma base e detectar anomalias nos dados, da mesma forma podem ser usados gráficos do tipo scatter para visualizar a disperção dos dados combinando duas ou mais variáveis.</b> "
   ]
  },
  {
   "cell_type": "code",
   "execution_count": 51,
   "metadata": {},
   "outputs": [
    {
     "data": {
      "text/plain": [
       "<matplotlib.axes._subplots.AxesSubplot at 0x22bf28296c8>"
      ]
     },
     "execution_count": 51,
     "metadata": {},
     "output_type": "execute_result"
    },
    {
     "data": {
      "image/png": "[encoded data removed]",
      "text/plain": [
       "<Figure size 720x432 with 1 Axes>"
      ]
     },
     "metadata": {},
     "output_type": "display_data"
    }
   ],
   "source": [
    "#gerando figuras para manipulação de largura e altura\n",
    "fig1, ax1 = plt.subplots(nrows=1, ncols=1, figsize=(10, 6))\n",
    "\n",
    "#definindo um título\n",
    "ax1.set_title('Processos x Natureza')\n",
    "\n",
    "#plotando grafico do tipo barras com contagem de valores por categoria\n",
    "sbn.countplot(y='natureza',data=df, orient='h')"
   ]
  },
  {
   "cell_type": "markdown",
   "metadata": {},
   "source": [
    "<b>No gráfico acima é demonstrado o agrupamento de processos por natureza, pode-se perceber que a grande maioria dos processos é de natureza cível, seguidos por processos sem natureza e Rtord(Rito ordinário). Processos iniciados antes da implementação da justiça eletrônica costumam não ter natureza especificada pois a definição da natureza era feita manualmente. Gráficos de barras são bons para demonstrar diferenças entre valores, contagem de categorias e classificações.</b>"
   ]
  },
  {
   "cell_type": "code",
   "execution_count": 52,
   "metadata": {},
   "outputs": [
    {
     "data": {
      "image/png": "[encoded data removed]",
      "text/plain": [
       "<Figure size 1008x288 with 2 Axes>"
      ]
     },
     "metadata": {},
     "output_type": "display_data"
    }
   ],
   "source": [
    "#gerando figuras para manipulação de largura e altura\n",
    "fig1, (ax1, ax2) = plt.subplots(nrows=1, ncols=2, figsize=(14, 4))\n",
    "\n",
    "#customização do grafico\n",
    "fig1.suptitle('Quantidade de Processos por Tipo', fontsize=16)\n",
    "\n",
    "dfcontagem = df.digital_fisico.value_counts(sort=True)\n",
    "\n",
    "#plotando grafico do tipo pizza\n",
    "dfcontagem.plot.pie(ax=ax1, autopct='%1.1f%%', shadow=True, explode=(0.1,0),\n",
    "                                                   wedgeprops={\"edgecolor\":\"0\", 'linewidth': 1, 'antialiased': True})\n",
    "\n",
    "#configurando quantidade numerica nas barras\n",
    "ax2.annotate('{:.0f}'.format(dfcontagem['digital']), xy=(0, dfcontagem['digital']-50), xycoords='data', ha='center', color='w')\n",
    "\n",
    "#exemplificando annotation em formato de caixa\n",
    "ax2.annotate('Processos físicos\\nem menor quantidade\\n{:.0f}'.format(dfcontagem['fisico']), xy=(0, dfcontagem['fisico']-90), \n",
    "             xytext=(180, 30), textcoords='offset points', bbox=dict(boxstyle=\"round\", fc=\"0.8\", color='b'), \n",
    "             xycoords='data', ha='center', color='black')\n",
    "\n",
    "\n",
    "sbn.countplot(x='digital_fisico', data=df, orient='v', ax=ax2)\n",
    "\n",
    "plt.show()"
   ]
  },
  {
   "cell_type": "markdown",
   "metadata": {},
   "source": [
    "<b>Gráficos do tipo pizza são bons para demonstrar agrupamentos, classificações e divergências quando o conjunto de dados tem uma quantidade limitada de conjuntos. Nos gráficos acima pode-se verificar que os processos da base estão em maioria no formato digital, vamos verificar abaixo a combinação de duas variáveis em um gráfico do tipo scatter para analisar se há divergência entre a duração de um processo físico e um digital.</b>"
   ]
  },
  {
   "cell_type": "code",
   "execution_count": 53,
   "metadata": {},
   "outputs": [
    {
     "data": {
      "image/png": "[encoded data removed]",
      "text/plain": [
       "<Figure size 576x288 with 1 Axes>"
      ]
     },
     "metadata": {},
     "output_type": "display_data"
    }
   ],
   "source": [
    "#filtrando os processos para garantir que sejam analisados apenas os que tem data de encerramento\n",
    "df_filtro = df.query('encerramento!=\"\"')\n",
    "\n",
    "#gerando figuras para manipulação de largura e altura\n",
    "fig1, ax1 = plt.subplots(nrows=1, ncols=1, figsize=(8, 4))\n",
    "\n",
    "#customizando gráfico\n",
    "ax1.set_title('Duração em dias por tipo de processo', fontsize=20)\n",
    "\n",
    "#plotando grafico de dispersão\n",
    "sbn.scatterplot(y='digital_fisico', x='duracao', data=df_filtro, size='duracao', sizes=(30,200))\n",
    "\n",
    "plt.legend()\n",
    "plt.show()"
   ]
  },
  {
   "cell_type": "markdown",
   "metadata": {},
   "source": [
    "<b>Pode-se perceber que os processos digitais, mesmo em maior número, tem duração bem menor de tramitação do que os processos físicos, isso pode indicar uma melhora na celeridade da justiça ao utilizar o formato digital.</b> "
   ]
  },
  {
   "cell_type": "markdown",
   "metadata": {},
   "source": [
    "<h3>Conclusão</h3><br>\n",
    "O processo de análise de dados é de extrema importância para adiquirir informações importantes a partir de um conjunto de dados, estruturados ou não, com o auxílio da linguagem python torna-se prático realizar as etapas de limpeza, preparação e visualização dos dados. Independentemente do tamanho da base de dados utilizada pode-se, portanto, aplicar os conceitos e técnicas que a linguagem python disponibiliza para obter valor informacional."
   ]
  }
 ],
 "metadata": {
  "kernelspec": {
   "display_name": "Python 3",
   "language": "python",
   "name": "python3"
  },
  "language_info": {
   "codemirror_mode": {
    "name": "ipython",
    "version": 3
   },
   "file_extension": ".py",
   "mimetype": "text/x-python",
   "name": "python",
   "nbconvert_exporter": "python",
   "pygments_lexer": "ipython3",
   "version": "3.7.6"
  }
 },
 "nbformat": 4,
 "nbformat_minor": 4
}
